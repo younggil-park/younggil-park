{
 "cells": [
  {
   "cell_type": "code",
   "execution_count": 1,
   "id": "5941b35d",
   "metadata": {},
   "outputs": [
    {
     "name": "stdout",
     "output_type": "stream",
     "text": [
      "\n",
      " [정보] 잠시만 기다리십시오. 저장된 영상을 학습하여 모델을 만들고 있습니다 ...\n",
      "\n",
      " [정보] 1 모델을 완료하였습니다.\n"
     ]
    }
   ],
   "source": [
    "import cv2\n",
    "import numpy as np #배열 계산 용이\n",
    "from PIL import Image #python imaging library\n",
    "import os\n",
    "\n",
    "path = \"face_dataset\" #경로 (dataset 폴더)\n",
    "detector = cv2.CascadeClassifier(\"haarcascades/haarcascade_frontalface_default.xml\")\n",
    "recognizer = cv2.face.LBPHFaceRecognizer_create()\n",
    "\n",
    "def getImagesAndLabels(path):\n",
    "    imagePaths = [os.path.join(path,f) for f in os.listdir(path)]\n",
    "\n",
    "    faceSamples = []\n",
    "    ids = []\n",
    "    for imagePath in imagePaths: #각 파일마다\n",
    "        #흑백 변환\n",
    "        PIL_img = Image.open(imagePath).convert('L') #L : 8 bit pixel, bw\n",
    "        img_numpy = np.array(PIL_img, 'uint8')\n",
    "\n",
    "        #user id\n",
    "        id = int(os.path.split(imagePath)[-1].split(\".\")[1])#마지막 index : -1\n",
    "\n",
    "        #얼굴 샘플\n",
    "        faces = detector.detectMultiScale(img_numpy)\n",
    "        for(x,y,w,h) in faces:\n",
    "            faceSamples.append(img_numpy[y:y+h,x:x+w])\n",
    "            ids.append(id)\n",
    "\n",
    "    return faceSamples, ids\n",
    "\n",
    "print(\"\\n [정보] 잠시만 기다리십시오. 저장된 영상을 학습하여 모델을 만들고 있습니다 ...\")\n",
    "faces, ids = getImagesAndLabels(path)\n",
    "\n",
    "recognizer.train(faces,np.array(ids)) #학습\n",
    "\n",
    "recognizer.write(\"models/face_train.yml\")\n",
    "print(\"\\n [정보] {0} 모델을 완료하였습니다.\".format(len(np.unique(ids))))"
   ]
  },
  {
   "cell_type": "code",
   "execution_count": null,
   "id": "97e2ef8e",
   "metadata": {},
   "outputs": [],
   "source": []
  }
 ],
 "metadata": {
  "kernelspec": {
   "display_name": "Python 3 (ipykernel)",
   "language": "python",
   "name": "python3"
  },
  "language_info": {
   "codemirror_mode": {
    "name": "ipython",
    "version": 3
   },
   "file_extension": ".py",
   "mimetype": "text/x-python",
   "name": "python",
   "nbconvert_exporter": "python",
   "pygments_lexer": "ipython3",
   "version": "3.9.12"
  }
 },
 "nbformat": 4,
 "nbformat_minor": 5
}
