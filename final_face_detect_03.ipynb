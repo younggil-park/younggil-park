{
 "cells": [
  {
   "cell_type": "code",
   "execution_count": 9,
   "id": "e3a4455a",
   "metadata": {},
   "outputs": [
    {
     "name": "stdout",
     "output_type": "stream",
     "text": [
      "\n",
      " [INFO] 영상 인식 프로그램을 종료합니다....\n"
     ]
    }
   ],
   "source": [
    "import cv2\n",
    "import numpy as np\n",
    "from PIL import ImageFont, ImageDraw, Image\n",
    "\n",
    "recognizer = cv2.face.LBPHFaceRecognizer_create()\n",
    "recognizer.read(\"models/face_train.yml\")\n",
    "cascadePath = \"haarcascades/haarcascade_frontalface_default.xml\"\n",
    "faceCascade = cv2.CascadeClassifier(cascadePath)\n",
    "\n",
    "font = cv2.FONT_HERSHEY_SIMPLEX\n",
    "id = 0\n",
    "names = ['None','박영길','Hong','Lims']\n",
    "\n",
    "cap = cv2.VideoCapture(0)\n",
    "cap.set(cv2.CAP_PROP_FRAME_WIDTH, 1980)\n",
    "cap.set(cv2.CAP_PROP_FRAME_HEIGHT, 720)\n",
    "\n",
    "minW = 0.1 * cap.get(cv2.CAP_PROP_FRAME_WIDTH)\n",
    "minH = 0.1 * cap.get(cv2.CAP_PROP_FRAME_HEIGHT)\n",
    "\n",
    "while True:\n",
    "    ret, img = cap.read()\n",
    "    gray = cv2.cvtColor(img, cv2.COLOR_BGR2GRAY)\n",
    "    \n",
    "    faces = faceCascade.detectMultiScale(\n",
    "        gray,\n",
    "        scaleFactor=1.2,\n",
    "        minNeighbors=6,\n",
    "        minSize=(int(minW), int(minH))\n",
    "    )\n",
    "    box_x=box_y=box_w=box_h=0\n",
    "    for(x,y,w,h) in faces:\n",
    "        cv2.rectangle(img, (x,y), (x+w,y+h), (0,255,0),2)\n",
    "        id, confidence = recognizer.predict(gray[y:y+h, x:x+w])\n",
    "\n",
    "        if confidence < 55 :\n",
    "            id = names[id]\n",
    "        else:\n",
    "            id = \"Unkonw\"\n",
    "        \n",
    "        confidence = \"  {0}%\".format(round(100-confidence))\n",
    "\n",
    "        box_x=x\n",
    "        box_y=y\n",
    "        box_w=w\n",
    "        box_h=h\n",
    "\n",
    "    width = 3\n",
    "    bbox = (box_x, box_y, box_w, box_h)\n",
    "    text_pos = (bbox[0]+width,bbox[1])\n",
    "    color_coverted = cv2.cvtColor(img, cv2.COLOR_BGR2RGB)\n",
    "    img_pil = Image.fromarray(color_coverted)\n",
    "    msg = \"ID:{0} Percent:{1}\".format(id,confidence)\n",
    "    \n",
    "    # PIL 이미지에 한글 입력\n",
    "    draw = ImageDraw.Draw(img_pil)\n",
    "    draw.text(text_pos,  msg, font=ImageFont.truetype(\"./malgun.ttf\", 20))\n",
    "\n",
    "    # PIL 이미지 -> cv2 Mat 타입으로 변경\n",
    "    numpy_img = np.array(img_pil)\n",
    "    cv2.imshow(\"face_detect_capture\",numpy_img)\n",
    "    if cv2.waitKey(1) > 0 : break\n",
    "\n",
    "print(\"\\n [INFO] 영상 인식 프로그램을 종료합니다....\")\n",
    "cap.release()\n",
    "cv2.destroyAllWindows()"
   ]
  },
  {
   "cell_type": "code",
   "execution_count": null,
   "id": "3e932eee",
   "metadata": {},
   "outputs": [],
   "source": []
  }
 ],
 "metadata": {
  "kernelspec": {
   "display_name": "Python 3 (ipykernel)",
   "language": "python",
   "name": "python3"
  },
  "language_info": {
   "codemirror_mode": {
    "name": "ipython",
    "version": 3
   },
   "file_extension": ".py",
   "mimetype": "text/x-python",
   "name": "python",
   "nbconvert_exporter": "python",
   "pygments_lexer": "ipython3",
   "version": "3.9.12"
  }
 },
 "nbformat": 4,
 "nbformat_minor": 5
}
