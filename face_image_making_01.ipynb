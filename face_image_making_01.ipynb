{
 "cells": [
  {
   "cell_type": "code",
   "execution_count": 3,
   "id": "f1dfe188",
   "metadata": {},
   "outputs": [
    {
     "name": "stdout",
     "output_type": "stream",
     "text": [
      "\n",
      " 영상을 저장할 사용자 ID(숫자 1~10)를 입력하고 엔터를 누르세요 ==> 1\n",
      "\n",
      " [정보] 카메라가 동작하면 얼굴을 카메라를 바라 보며 다양한 표정을 지어 봅시다. ...\n",
      "\n",
      " [INFO] 영상 저장을 종료합니다....\n"
     ]
    }
   ],
   "source": [
    "import cv2 #OpenCV 영상처리\n",
    "import numpy as np #배열 계산 용이\n",
    "import os #파일 입출력을 위해 분류기를 데려온다. (파일 경로 유의)\n",
    "\n",
    "faceCascade = cv2.CascadeClassifier(\"haarcascades/haarcascade_frontalface_default.xml\")\n",
    "\n",
    "# 카메라와 캡춰 영상 크기 설정 부분\n",
    "capture = cv2.VideoCapture(0) # 카메라 인텍스\n",
    "capture.set(cv2.CAP_PROP_FRAME_WIDTH,1280) # 가로크기\n",
    "capture.set(cv2.CAP_PROP_FRAME_HEIGHT,720) # 세로크기\n",
    "\n",
    "# 영상을 저장할 사용자 ID를 입력 받는 부분\n",
    "face_id = input(\"\\n 영상을 저장할 사용자 ID(숫자 1~10)를 입력하고 엔터를 누르세요 ==> \")\n",
    "print(\"\\n [정보] 카메라가 동작하면 얼굴을 카메라를 바라 보며 다양한 표정을 지어 봅시다. ...\")\n",
    "\n",
    "count = 0 # 캡춰 영상 저장 갯수\n",
    "#영상 처리 및 출력\n",
    "while True: \n",
    "    ret, frame = capture.read() #카메라 상태 및 프레임\n",
    "    gray = cv2.cvtColor(frame, cv2.COLOR_BGR2GRAY) # 칼라 영상을 흑백으로 변환\n",
    "    faces = faceCascade.detectMultiScale(\n",
    "        gray,                 #검출하고자 하는 원본이미지\n",
    "        scaleFactor = 1.2,    #검색 윈도우 확대 비율, 1보다 커야 한다\n",
    "        minNeighbors = 6,     #얼굴 사이 최소 간격(픽셀)\n",
    "        minSize=(20,20)       #얼굴 최소 크기. 이것보다 작으면 무시\n",
    "    )\n",
    "\n",
    "    #얼굴에 대해 rectangle 출력\n",
    "    for (x,y,w,h) in faces:\n",
    "        cv2.rectangle(frame,(x,y),(x+w,y+h),(255,0,0),2)\n",
    "        count += 1\n",
    "        cv2.imwrite(\"face_dataset/User.\"+str(face_id)+'.'+str(count)+\".jpg\",gray[y:y+h, x:x+w])\n",
    "    cv2.imshow(\"image\",frame)\n",
    "\n",
    "    #종료 조건: ESC 키 또는 100개 영상을 저장한 경우\n",
    "    if cv2.waitKey(1) > 0 : break\n",
    "    elif count >= 500 : break\n",
    "\n",
    "print(\"\\n [INFO] 영상 저장을 종료합니다....\")\n",
    "\n",
    "capture.release() #메모리 해제\n",
    "cv2.destroyAllWindows()#모든 윈도우 창 닫기"
   ]
  },
  {
   "cell_type": "code",
   "execution_count": null,
   "id": "887c606b",
   "metadata": {},
   "outputs": [],
   "source": []
  }
 ],
 "metadata": {
  "kernelspec": {
   "display_name": "Python 3 (ipykernel)",
   "language": "python",
   "name": "python3"
  },
  "language_info": {
   "codemirror_mode": {
    "name": "ipython",
    "version": 3
   },
   "file_extension": ".py",
   "mimetype": "text/x-python",
   "name": "python",
   "nbconvert_exporter": "python",
   "pygments_lexer": "ipython3",
   "version": "3.9.12"
  }
 },
 "nbformat": 4,
 "nbformat_minor": 5
}
